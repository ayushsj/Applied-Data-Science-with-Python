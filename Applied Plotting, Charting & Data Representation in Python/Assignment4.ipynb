{
 "cells": [
  {
   "cell_type": "markdown",
   "metadata": {},
   "source": [
    "# Assignment 4\n",
    "\n",
    "Before working on this assignment please read these instructions fully. In the submission area, you will notice that you can click the link to **Preview the Grading** for each step of the assignment. This is the criteria that will be used for peer grading. Please familiarize yourself with the criteria before beginning the assignment.\n",
    "\n",
    "This assignment requires that you to find **at least** two datasets on the web which are related, and that you visualize these datasets to answer a question with the broad topic of **religious events or traditions** (see below) for the region of **Jaipur, Rajasthan, India**, or **India** more broadly.\n",
    "\n",
    "You can merge these datasets with data from different regions if you like! For instance, you might want to compare **Jaipur, Rajasthan, India** to Ann Arbor, USA. In that case at least one source file must be about **Jaipur, Rajasthan, India**.\n",
    "\n",
    "You are welcome to choose datasets at your discretion, but keep in mind **they will be shared with your peers**, so choose appropriate datasets. Sensitive, confidential, illicit, and proprietary materials are not good choices for datasets for this assignment. You are welcome to upload datasets of your own as well, and link to them using a third party repository such as github, bitbucket, pastebin, etc. Please be aware of the Coursera terms of service with respect to intellectual property.\n",
    "\n",
    "Also, you are welcome to preserve data in its original language, but for the purposes of grading you should provide english translations. You are welcome to provide multiple visuals in different languages if you would like!\n",
    "\n",
    "As this assignment is for the whole course, you must incorporate principles discussed in the first week, such as having as high data-ink ratio (Tufte) and aligning with Cairo’s principles of truth, beauty, function, and insight.\n",
    "\n",
    "Here are the assignment instructions:\n",
    "\n",
    " * State the region and the domain category that your data sets are about (e.g., **Jaipur, Rajasthan, India** and **religious events or traditions**).\n",
    " * You must state a question about the domain category and region that you identified as being interesting.\n",
    " * You must provide at least two links to available datasets. These could be links to files such as CSV or Excel files, or links to websites which might have data in tabular form, such as Wikipedia pages.\n",
    " * You must upload an image which addresses the research question you stated. In addition to addressing the question, this visual should follow Cairo's principles of truthfulness, functionality, beauty, and insightfulness.\n",
    " * You must contribute a short (1-2 paragraph) written justification of how your visualization addresses your stated research question.\n",
    "\n",
    "What do we mean by **religious events or traditions**?  For this category you might consider calendar events, demographic data about religion in the region and neighboring regions, participation in religious events, or how religious events relate to political events, social movements, or historical events.\n",
    "\n",
    "## Tips\n",
    "* Wikipedia is an excellent source of data, and I strongly encourage you to explore it for new data sources.\n",
    "* Many governments run open data initiatives at the city, region, and country levels, and these are wonderful resources for localized data sources.\n",
    "* Several international agencies, such as the [United Nations](http://data.un.org/), the [World Bank](http://data.worldbank.org/), the [Global Open Data Index](http://index.okfn.org/place/) are other great places to look for data.\n",
    "* This assignment requires you to convert and clean datafiles. Check out the discussion forums for tips on how to do this from various sources, and share your successes with your fellow students!\n",
    "\n",
    "## Example\n",
    "Looking for an example? Here's what our course assistant put together for the **Ann Arbor, MI, USA** area using **sports and athletics** as the topic. [Example Solution File](./readonly/Assignment4_example.pdf)"
   ]
  },
  {
   "cell_type": "code",
   "execution_count": null,
   "metadata": {
    "collapsed": true
   },
   "outputs": [],
   "source": [
    "import pandas as pd\n",
    "import numpy as np\n",
    "\n",
    "df = pd.read_csv('Datasets/zomato.csv')\n",
    "df = df[['name','rating']]\n",
    "df = df.dropna(axis=0)\n",
    "df = df[df['rating']!=\"N\"]\n",
    "df['rating'] = df.rating.str.slice(0,3)\n",
    "df['rating'] = df.rating.astype('float')\n",
    "df = df.reset_index()\n",
    "df = df[['name','rating']]\n",
    "\n",
    "df1 = pd.read_csv('Datasets/swiggy.csv')\n",
    "df1 = df1.rename(columns={'Shree Gopi Pavitra Bhojnalya ':'name','4.3':'rating'})\n",
    "df1['name'] = df1['name'].str.strip(\" \")\n",
    "\n",
    "data = pd.DataFrame.merge(df,df1,how='inner',left_on='name',right_on='name')\n",
    "data = data.rename(columns={'rating_x':'Zomato','rating_y':'Swiggy','name':'Restaurant'})\n",
    "data = data.set_index('Restaurant')\n",
    "\n",
    "zomato = data.groupby('Restaurant')['Zomato'].agg({'Zomato':np.average})\n",
    "swiggy = data.groupby('Restaurant')['Swiggy'].agg({'Swiggy':np.average})\n"
   ]
  },
  {
   "cell_type": "code",
   "execution_count": null,
   "metadata": {
    "collapsed": true
   },
   "outputs": [],
   "source": [
    "import matplotlib.pyplot as plt\n",
    "\n",
    "plt.figure(frameon=False,figsize=(25,10))\n",
    "plt.bar(swiggy.index,swiggy['Swiggy'],width = 0.5)\n",
    "plt.xticks(rotation = 90)\n",
    "plt.tick_params(axis = 'x',which='major',labelsize = 14)\n",
    "plt.tick_params(axis = 'y',which='major',labelsize = 20)\n",
    "plt.plot(zomato,marker='D', markeredgecolor='black',markerfacecolor='black',markersize=10,linewidth = 5,color='red')\n",
    "plt.xlabel('Restaurants',size=30)\n",
    "plt.ylabel('Rating',size=30)\n",
    "plt.title('Ratings comparision of Swiggy vs Zomato',size=40)\n",
    "plt.yticks(np.arange(0, 5, step=0.5))\n",
    "plt.legend(zomato)\n",
    "plt.tight_layout()\n",
    "plt.show()"
   ]
  }
 ],
 "metadata": {
  "kernelspec": {
   "display_name": "Python 3",
   "language": "python",
   "name": "python3"
  },
  "language_info": {
   "codemirror_mode": {
    "name": "ipython",
    "version": 3
   },
   "file_extension": ".py",
   "mimetype": "text/x-python",
   "name": "python",
   "nbconvert_exporter": "python",
   "pygments_lexer": "ipython3",
   "version": "3.6.2"
  }
 },
 "nbformat": 4,
 "nbformat_minor": 1
}
